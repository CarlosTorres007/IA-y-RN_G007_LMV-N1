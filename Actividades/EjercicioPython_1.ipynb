{
  "nbformat": 4,
  "nbformat_minor": 0,
  "metadata": {
    "colab": {
      "provenance": []
    },
    "kernelspec": {
      "name": "python3",
      "display_name": "Python 3"
    },
    "language_info": {
      "name": "python"
    }
  },
  "cells": [
    {
      "cell_type": "markdown",
      "source": [
        "# **Ejercicios en Python**\n",
        "\n",
        "Nombre del alumno: Carlos Adrián Torres González\n",
        "\n",
        "Matrícula: 2077613\n",
        "\n",
        "Hora clase: LMV/N1"
      ],
      "metadata": {
        "id": "t9lOOvsmFGmd"
      }
    },
    {
      "cell_type": "markdown",
      "source": [
        "**Objetivo.-** \n",
        "\n",
        "Practicar el lenguaje de programación Python, su sintaxis y lógica de programación en general. \n",
        "Conocer la interfaz y funcionamiento de Google Colab. "
      ],
      "metadata": {
        "id": "TPbTPWWnInGn"
      }
    },
    {
      "cell_type": "markdown",
      "source": [
        "**Instrucciones.-**\n",
        "\n",
        "Realizar los siguientes ejercicios en Python en una notebook de Google Colab."
      ],
      "metadata": {
        "id": "85pb4SiEHbvH"
      }
    },
    {
      "cell_type": "markdown",
      "source": [
        "1.- Desarrolla un algoritmo que le pida al usuario por su nombre y que lo salude con su nombre, excepto si se llama “Ana”, “Juan”, y “Pedro”."
      ],
      "metadata": {
        "id": "6OooTbkOILUn"
      }
    },
    {
      "cell_type": "code",
      "execution_count": 10,
      "metadata": {
        "id": "oFZZWtHTERiR",
        "colab": {
          "base_uri": "https://localhost:8080/"
        },
        "outputId": "9bfd8168-0f11-4f76-8489-bd6e14b2c5d1"
      },
      "outputs": [
        {
          "name": "stdout",
          "output_type": "stream",
          "text": [
            "Introduzca su nombre: PeDrO\n"
          ]
        }
      ],
      "source": [
        "#El siguiente código funciona tanto para letras mayúsculas, minúsculas o mixtas.\n",
        "\n",
        "a = \"ANA\"\n",
        "b = \"JUAN\"\n",
        "c = \"PEDRO\"\n",
        "\n",
        "def function(Nombre_usuario):\n",
        "  if Nombre_usuario != a and Nombre_usuario != b and Nombre_usuario != c:\n",
        "    print(\"¡Hola\" + \" \" + Nombre_usuario + \"!\")\n",
        "    \n",
        "Nombre_proporcionado = input(\"Introduzca su nombre: \")\n",
        "Nombre_mayusculas = Nombre_proporcionado.upper()\n",
        "\n",
        "if Nombre_mayusculas != a and Nombre_mayusculas != b and Nombre_mayusculas != c:\n",
        "  function(Nombre_mayusculas.capitalize())"
      ]
    },
    {
      "cell_type": "code",
      "source": [
        "#El siguiente código funciona tanto para letras mayúsculas, minúsculas o mixtas.\n",
        "\n",
        "a = \"ANA\"\n",
        "b = \"JUAN\"\n",
        "c = \"PEDRO\"\n",
        "\n",
        "def function(Nombre_usuario):\n",
        "  if Nombre_usuario != a and Nombre_usuario != b and Nombre_usuario != c:\n",
        "    print(\"¡Hola\" + \" \" + Nombre_usuario + \"!\")\n",
        "    \n",
        "Nombre_proporcionado = input(\"Introduzca su nombre: \")\n",
        "Nombre_mayusculas = Nombre_proporcionado.upper()\n",
        "\n",
        "if Nombre_mayusculas != a and Nombre_mayusculas != b and Nombre_mayusculas != c:\n",
        "  function(Nombre_mayusculas.capitalize())"
      ],
      "metadata": {
        "colab": {
          "base_uri": "https://localhost:8080/"
        },
        "id": "EQxrwrKty-98",
        "outputId": "a8a2d9e7-5787-4c7b-ca45-c4a3e75e6c5f"
      },
      "execution_count": 11,
      "outputs": [
        {
          "output_type": "stream",
          "name": "stdout",
          "text": [
            "Introduzca su nombre: Carlos\n",
            "¡Hola Carlos!\n"
          ]
        }
      ]
    },
    {
      "cell_type": "markdown",
      "source": [
        "2.- Desarrolla un algoritmo que por medio de una función, le pida al usuario una lista de N elementos y como resultado invierta el sentido de la lista. "
      ],
      "metadata": {
        "id": "CnGgYzLwIU5-"
      }
    },
    {
      "cell_type": "code",
      "source": [
        "print(\"El siguiente programa invierte el sentido de la lista que usted proporcione.\")\n",
        "\n",
        "def IE_function(lista_invertida):\n",
        "  print (lista_invertida)\n",
        "\n",
        "lista = []\n",
        "elementos = input(\"Proporcione el primer elemento de la lista: \")\n",
        "lista.append(elementos)\n",
        "agg = input(\"¿Quiere añadir más elementos?. En caso afirmativo escriba: Sí, en caso contrario escriba: No. Su respuesta:\")\n",
        "\n",
        "while agg == \"Sí\":\n",
        "  elementos = input(\"Introduzca un elemento más: \")\n",
        "  lista.append(elementos)\n",
        "  agg = input(\"¿QuieSre añadir más elementos?. En caso afirmativo escriba: Sí, en caso contrario escriba: No. Su respuesta:\")\n",
        "\n",
        "if agg == \"No\":\n",
        "  invertir_lista = list(reversed(lista))\n",
        "  print(\"Su lista invertida es la siguiente:\")\n",
        "  for x in (invertir_lista):\n",
        "    IE_function(x)"
      ],
      "metadata": {
        "id": "uArjJ1BdETlM",
        "colab": {
          "base_uri": "https://localhost:8080/"
        },
        "outputId": "2817ad64-b477-4010-9f32-bb5cf844236a"
      },
      "execution_count": 14,
      "outputs": [
        {
          "output_type": "stream",
          "name": "stdout",
          "text": [
            "El siguiente programa invierte el sentido de la lista que usted proporcione.\n",
            "Proporcione el primer elemento de la lista: Uva\n",
            "¿Quiere añadir más elementos?. En caso afirmativo escriba: Sí, en caso contrario escriba: No. Su respuesta:Sí\n",
            "Introduzca un elemento más: Manzana\n",
            "¿Quiere añadir más elementos?. En caso afirmativo escriba: Sí, en caso contrario escriba: No. Su respuesta:Sí\n",
            "Introduzca un elemento más: Pera\n",
            "¿Quiere añadir más elementos?. En caso afirmativo escriba: Sí, en caso contrario escriba: No. Su respuesta:Sí\n",
            "Introduzca un elemento más: Melón\n",
            "¿Quiere añadir más elementos?. En caso afirmativo escriba: Sí, en caso contrario escriba: No. Su respuesta:Sí\n",
            "Introduzca un elemento más: Mora\n",
            "¿Quiere añadir más elementos?. En caso afirmativo escriba: Sí, en caso contrario escriba: No. Su respuesta:Sí\n",
            "Introduzca un elemento más: Sandía\n",
            "¿Quiere añadir más elementos?. En caso afirmativo escriba: Sí, en caso contrario escriba: No. Su respuesta:Sí\n",
            "Introduzca un elemento más: Mango\n",
            "¿Quiere añadir más elementos?. En caso afirmativo escriba: Sí, en caso contrario escriba: No. Su respuesta:No\n",
            "Su lista invertida es la siguiente:\n",
            "Mango\n",
            "Sandía\n",
            "Mora\n",
            "Melón\n",
            "Pera\n",
            "Manzana\n",
            "Uva\n"
          ]
        }
      ]
    },
    {
      "cell_type": "markdown",
      "source": [
        "3.- Desarrolla un algoritmo que le pregunte al usuario cuántos números de la serie de Fibonnaci quiere generar y que al final los imprima. "
      ],
      "metadata": {
        "id": "ONbELPrpIZkX"
      }
    },
    {
      "cell_type": "code",
      "source": [
        "print(\"El siguiente programa muestra la cantidad de números de la serie de Fibonacci que usted desee\")\n",
        "\n",
        "def serie_fibonacci(serie):\n",
        "  print(\"La serie de Fibonacci establecida es: \")\n",
        "  y = 1\n",
        "  x = 1\n",
        "  if serie == 1:\n",
        "    print('0')\n",
        "  elif serie == 2:\n",
        "    print('0', '1')\n",
        "  else:\n",
        "    print('0')\n",
        "    print(y)\n",
        "    print(x)\n",
        "    for rango in range (serie-3):\n",
        "      numero_siguiente = y + x\n",
        "      x = y\n",
        "      y = numero_siguiente\n",
        "      print(numero_siguiente)\n",
        "\n",
        "numero_elementos = input(\"¿Cuántos números desea generar? \")\n",
        "w = int(numero_elementos)\n",
        "serie_fibonacci(w)"
      ],
      "metadata": {
        "id": "GcAN5_uiEZ9e",
        "colab": {
          "base_uri": "https://localhost:8080/"
        },
        "outputId": "d46d2204-caeb-43eb-eff1-65ba8f40f56f"
      },
      "execution_count": 13,
      "outputs": [
        {
          "output_type": "stream",
          "name": "stdout",
          "text": [
            "El siguiente programa muestra la cantidad de números de la serie de Fibonacci que usted desee\n",
            "¿Cuántos números desea generar? 20\n",
            "La serie de Fibonacci establecida es: \n",
            "0\n",
            "1\n",
            "1\n",
            "2\n",
            "3\n",
            "5\n",
            "8\n",
            "13\n",
            "21\n",
            "34\n",
            "55\n",
            "89\n",
            "144\n",
            "233\n",
            "377\n",
            "610\n",
            "987\n",
            "1597\n",
            "2584\n",
            "4181\n"
          ]
        }
      ]
    },
    {
      "cell_type": "markdown",
      "source": [
        "**Referencias**\n",
        "\n",
        "Matthes, E.(2023).Python crash course. No starch press. [https://www.w3schools.com/python/default.asp](https://www.w3schools.com/python/default.asp)\n"
      ],
      "metadata": {
        "id": "5dhn9VutF0PM"
      }
    }
  ]
}